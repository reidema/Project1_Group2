{
 "cells": [
  {
   "cell_type": "code",
   "execution_count": 2,
   "id": "6c0c01a5-25eb-4a26-bbf0-be47823d9f59",
   "metadata": {},
   "outputs": [],
   "source": [
    "# Import the required libraries and dependencies\n",
    "import pandas as pd\n",
    "import hvplot.pandas\n",
    "from dotenv import load_dotenv\n",
    "from pathlib import Path\n",
    "import plotly.express as px\n",
    "import os\n",
    "from fredapi import Fred\n",
    "import alpaca_trade_api as tradeapi\n",
    "from alpaca_trade_api.rest import TimeFrame "
   ]
  },
  {
   "cell_type": "code",
   "execution_count": 3,
   "id": "55dd59bb-0311-4b64-adc1-f83494eae389",
   "metadata": {},
   "outputs": [
    {
     "data": {
      "text/plain": [
       "True"
      ]
     },
     "execution_count": 3,
     "metadata": {},
     "output_type": "execute_result"
    }
   ],
   "source": [
    "# Load .env enviroment variables\n",
    "load_dotenv(r\"example.env\")"
   ]
  },
  {
   "cell_type": "code",
   "execution_count": 18,
   "id": "f7b43c72-8591-4345-90e9-45aea785b099",
   "metadata": {},
   "outputs": [],
   "source": [
    "# API Key Fred\n",
    "fred = Fred(api_key = os.getenv(\"API_KEY\"))"
   ]
  },
  {
   "cell_type": "code",
   "execution_count": 4,
   "id": "d0e249d5-0302-4efc-bdaa-a875050a5e66",
   "metadata": {},
   "outputs": [],
   "source": [
    "# Set Alpaca API key and secret\n",
    "alpaca_api_key = os.getenv(\"ALPACA_API_KEY\")\n",
    "alpaca_secret_key = os.getenv(\"ALPACA_SECRET_KEY\")\n",
    "# Create the Alpaca API object\n",
    "alpaca = tradeapi.REST(\n",
    "    alpaca_api_key,\n",
    "    alpaca_secret_key)"
   ]
  },
  {
   "cell_type": "code",
   "execution_count": 19,
   "id": "d819a6b2-4414-4781-a2eb-0b28a2ad1b86",
   "metadata": {},
   "outputs": [],
   "source": [
    "#Set to and from dates\n",
    "to_date = '01-01-2023'\n",
    "from_date = '01-01-2013'"
   ]
  },
  {
   "cell_type": "code",
   "execution_count": 9,
   "id": "eb9a3c7a-d30e-4bcd-b027-d0338efb45df",
   "metadata": {},
   "outputs": [],
   "source": [
    "# Setup descriptor ID's\n",
    "japan_10y = fred.get_series('IRLTLT01JPM156N')\n",
    "usa_10y = fred.get_series('DGS10')\n",
    "canada_10y = fred.get_series('IRLTLT01CAM156N')\n",
    "uk_10y = fred.get_series('IRLTLT01GBM156N')\n",
    "euro_10y= fred.get_series('IRLTLT01EZM156N')\n",
    "japan_10y = fred.get_series('IRLTLT01JPM156N')\n",
    "india_10y = fred.get_series('INDIRLTLT01STM')\n",
    "australia_10y = fred.get_series('IRLTLT01AUM156N')\n",
    "germany_10y = fred.get_series('IRLTLT01DEM156N')\n",
    "brazil_10y = fred.get_series('INTGSTBRM193N')\n",
    "france_10y = fred.get_series('IRLTLT01FRM156N')\n",
    "usa_hpi = 'USSTHPI'"
   ]
  },
  {
   "cell_type": "code",
   "execution_count": 28,
   "id": "f3d55cbb-2337-43e1-8f64-1ee941e51773",
   "metadata": {},
   "outputs": [
    {
     "name": "stdout",
     "output_type": "stream",
     "text": [
      "                0\n",
      "2013-01-01  0.775\n",
      "2013-02-01  0.669\n",
      "2013-03-01  0.492\n",
      "2013-04-01  0.589\n",
      "2013-05-01  0.879\n",
      "...           ...\n",
      "2022-08-01  0.220\n",
      "2022-09-01  0.240\n",
      "2022-10-01  0.245\n",
      "2022-11-01  0.250\n",
      "2022-12-01  0.410\n",
      "\n",
      "[120 rows x 1 columns]\n"
     ]
    }
   ],
   "source": [
    "# Import historical data Japan 10Y\n",
    "japan_10y_df = pd.DataFrame(fred.get_series(japan_10y,observation_start = from_date, observation_end = to_date))\n",
    "#japan_10y_columns = [\"Japan_10y\"]\n",
    "#japan_10y_df = pd.DataFrame(japan_10y, columns = japan_10y_columns)\n",
    "print(japan_10y_df)"
   ]
  },
  {
   "cell_type": "code",
   "execution_count": 8,
   "id": "2d662b0c-e368-4426-ba13-ee8f6115bea0",
   "metadata": {},
   "outputs": [
    {
     "name": "stdout",
     "output_type": "stream",
     "text": [
      "               0\n",
      "2013-01-01   NaN\n",
      "2013-01-02  1.86\n",
      "2013-01-03  1.92\n",
      "2013-01-04  1.93\n",
      "2013-01-07  1.92\n",
      "...          ...\n",
      "2022-12-26   NaN\n",
      "2022-12-27  3.84\n",
      "2022-12-28  3.88\n",
      "2022-12-29  3.83\n",
      "2022-12-30  3.88\n",
      "\n",
      "[2609 rows x 1 columns]\n"
     ]
    }
   ],
   "source": [
    "# Import historical data U.S. Treasury Securities at 10-Year\n",
    "usa_10y_df = pd.DataFrame(fred.get_series(usa_10y,observation_start = from_date, observation_end = to_date))\n",
    "usa_10y_columns = [\"Date\", \"USA_10y\"]\n",
    "print(usa_10y_df)"
   ]
  },
  {
   "cell_type": "code",
   "execution_count": 32,
   "id": "6f80b0a9-a6ce-4c08-936f-766be8800ec6",
   "metadata": {},
   "outputs": [
    {
     "name": "stdout",
     "output_type": "stream",
     "text": [
      "                 0\n",
      "2013-01-01  316.79\n",
      "2013-04-01  321.63\n",
      "2013-07-01  326.28\n",
      "2013-10-01  328.89\n",
      "2014-01-01  331.62\n",
      "2014-04-01  338.04\n",
      "2014-07-01  342.94\n",
      "2014-10-01  345.71\n",
      "2015-01-01  349.53\n",
      "2015-04-01  355.21\n",
      "2015-07-01  360.25\n",
      "2015-10-01  363.17\n",
      "2016-01-01  366.52\n",
      "2016-04-01  373.39\n",
      "2016-07-01  380.03\n",
      "2016-10-01  383.00\n",
      "2017-01-01  385.81\n",
      "2017-04-01  394.45\n",
      "2017-07-01  400.53\n",
      "2017-10-01  403.87\n",
      "2018-01-01  409.56\n",
      "2018-04-01  417.12\n",
      "2018-07-01  422.20\n",
      "2018-10-01  423.66\n",
      "2019-01-01  428.39\n",
      "2019-04-01  435.51\n",
      "2019-07-01  441.05\n",
      "2019-10-01  444.99\n",
      "2020-01-01  450.13\n",
      "2020-04-01  454.60\n",
      "2020-07-01  462.51\n",
      "2020-10-01  472.69\n",
      "2021-01-01  484.05\n",
      "2021-04-01  511.01\n",
      "2021-07-01  539.48\n",
      "2021-10-01  558.11\n",
      "2022-01-01  578.70\n",
      "2022-04-01  618.37\n",
      "2022-07-01  628.88\n"
     ]
    }
   ],
   "source": [
    "# Import historical data House Price Index for the United States (Quaterly) \n",
    "usa_hpi_df = pd.DataFrame(fred.get_series(usa_hpi,observation_start = from_date, observation_end = to_date))\n",
    "print(usa_hpi_df)"
   ]
  },
  {
   "cell_type": "code",
   "execution_count": 10,
   "id": "2ad1fe27-869c-42e3-972a-0a734946bbe0",
   "metadata": {},
   "outputs": [],
   "source": [
    "# 3JuMaj_S7uyx3E7s2TFT\n"
   ]
  },
  {
   "cell_type": "code",
   "execution_count": 1,
   "id": "f16453af-49e1-444c-af76-f706441c695e",
   "metadata": {},
   "outputs": [],
   "source": [
    "import quandl"
   ]
  },
  {
   "cell_type": "code",
   "execution_count": 2,
   "id": "4d7c2f48-b15a-40c1-afe0-c129d1d947b9",
   "metadata": {},
   "outputs": [],
   "source": [
    "quandl.ApiConfig.api_key = \"3JuMaj_S7uyx3E7s2TFT\""
   ]
  },
  {
   "cell_type": "code",
   "execution_count": 9,
   "id": "758f36bf-9d7b-458a-b1d6-1a61854e336c",
   "metadata": {},
   "outputs": [],
   "source": [
    "country_code = \"YC/USA10Y\"\n",
    "dataset = f\"{country_code}/BONDS\""
   ]
  },
  {
   "cell_type": "code",
   "execution_count": 10,
   "id": "8d212f5f-8f85-4565-8d71-27137de220eb",
   "metadata": {},
   "outputs": [],
   "source": [
    "data = quandl.get(dataset)"
   ]
  },
  {
   "cell_type": "code",
   "execution_count": 12,
   "id": "dc9cd438-b80b-4373-9f2b-7fcdf10666d5",
   "metadata": {},
   "outputs": [
    {
     "data": {
      "text/html": [
       "<div>\n",
       "<style scoped>\n",
       "    .dataframe tbody tr th:only-of-type {\n",
       "        vertical-align: middle;\n",
       "    }\n",
       "\n",
       "    .dataframe tbody tr th {\n",
       "        vertical-align: top;\n",
       "    }\n",
       "\n",
       "    .dataframe thead th {\n",
       "        text-align: right;\n",
       "    }\n",
       "</style>\n",
       "<table border=\"1\" class=\"dataframe\">\n",
       "  <thead>\n",
       "    <tr style=\"text-align: right;\">\n",
       "      <th></th>\n",
       "      <th>Rate</th>\n",
       "    </tr>\n",
       "    <tr>\n",
       "      <th>Date</th>\n",
       "      <th></th>\n",
       "    </tr>\n",
       "  </thead>\n",
       "  <tbody>\n",
       "    <tr>\n",
       "      <th>2010-01-04</th>\n",
       "      <td>3.85</td>\n",
       "    </tr>\n",
       "    <tr>\n",
       "      <th>2010-01-05</th>\n",
       "      <td>3.77</td>\n",
       "    </tr>\n",
       "    <tr>\n",
       "      <th>2010-01-06</th>\n",
       "      <td>3.85</td>\n",
       "    </tr>\n",
       "    <tr>\n",
       "      <th>2010-01-07</th>\n",
       "      <td>3.85</td>\n",
       "    </tr>\n",
       "    <tr>\n",
       "      <th>2010-01-08</th>\n",
       "      <td>3.83</td>\n",
       "    </tr>\n",
       "  </tbody>\n",
       "</table>\n",
       "</div>"
      ],
      "text/plain": [
       "            Rate\n",
       "Date            \n",
       "2010-01-04  3.85\n",
       "2010-01-05  3.77\n",
       "2010-01-06  3.85\n",
       "2010-01-07  3.85\n",
       "2010-01-08  3.83"
      ]
     },
     "execution_count": 12,
     "metadata": {},
     "output_type": "execute_result"
    }
   ],
   "source": [
    "data.head()"
   ]
  },
  {
   "cell_type": "code",
   "execution_count": 20,
   "id": "ce4024ae-0db1-4fb5-83fa-bebb459dc31a",
   "metadata": {},
   "outputs": [],
   "source": [
    "data = fred.get_series('GS10')"
   ]
  },
  {
   "cell_type": "code",
   "execution_count": 21,
   "id": "d0911353-2fa3-4aec-b9c6-f2da3f0686c8",
   "metadata": {},
   "outputs": [
    {
     "data": {
      "text/plain": [
       "1953-04-01    2.83\n",
       "1953-05-01    3.05\n",
       "1953-06-01    3.11\n",
       "1953-07-01    2.93\n",
       "1953-08-01    2.95\n",
       "dtype: float64"
      ]
     },
     "execution_count": 21,
     "metadata": {},
     "output_type": "execute_result"
    }
   ],
   "source": [
    "data.head()"
   ]
  },
  {
   "cell_type": "code",
   "execution_count": null,
   "id": "f8f30b56-85cd-4b0b-bd40-2cd9ac114d93",
   "metadata": {},
   "outputs": [],
   "source": []
  }
 ],
 "metadata": {
  "kernelspec": {
   "display_name": "Python 3 (ipykernel)",
   "language": "python",
   "name": "python3"
  },
  "language_info": {
   "codemirror_mode": {
    "name": "ipython",
    "version": 3
   },
   "file_extension": ".py",
   "mimetype": "text/x-python",
   "name": "python",
   "nbconvert_exporter": "python",
   "pygments_lexer": "ipython3",
   "version": "3.7.15"
  }
 },
 "nbformat": 4,
 "nbformat_minor": 5
}
